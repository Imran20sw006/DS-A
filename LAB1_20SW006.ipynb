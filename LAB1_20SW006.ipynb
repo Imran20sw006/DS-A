{
  "nbformat": 4,
  "nbformat_minor": 0,
  "metadata": {
    "colab": {
      "provenance": [],
      "authorship_tag": "ABX9TyMrkWicrnTBZR3oxJVLK/SV",
      "include_colab_link": true
    },
    "kernelspec": {
      "name": "python3",
      "display_name": "Python 3"
    },
    "language_info": {
      "name": "python"
    }
  },
  "cells": [
    {
      "cell_type": "markdown",
      "metadata": {
        "id": "view-in-github",
        "colab_type": "text"
      },
      "source": [
        "<a href=\"https://colab.research.google.com/github/Imran20sw006/DS-A/blob/main/LAB1_20SW006.ipynb\" target=\"_parent\"><img src=\"https://colab.research.google.com/assets/colab-badge.svg\" alt=\"Open In Colab\"/></a>"
      ]
    },
    {
      "cell_type": "code",
      "execution_count": 1,
      "metadata": {
        "colab": {
          "base_uri": "https://localhost:8080/"
        },
        "id": "BzE53YMTizQp",
        "outputId": "7f20878b-3f98-4d6a-981b-403db48d4f0c"
      },
      "outputs": [
        {
          "output_type": "stream",
          "name": "stdout",
          "text": [
            "The age of ameer is 22 while the age of imran is 20 in maths\n"
          ]
        }
      ],
      "source": [
        "imran=20\n",
        "ameer=22\n",
        "print(\"The age of ameer is {} while the age of imran is {} in maths\".format(ameer,imran))"
      ]
    },
    {
      "cell_type": "code",
      "source": [
        "sentence = \"hello, world!\"\n",
        "capitalized_sentence = sentence.capitalize()\n",
        "print(capitalized_sentence)\n",
        "\n",
        "text = \"HELLO, WoRLd!\"\n",
        "casefolded_text = text.casefold()\n",
        "print(casefolded_text)\n",
        "\n",
        "sentence = \"How much wood would a woodchuck chuck if a woodchuck could chuck wood?\"\n",
        "occurrences = sentence.count(\"wood\")\n",
        "print(occurrences)\n",
        "\n",
        "filename = \"example.txt\"\n",
        "print(filename.endswith(\".txt\"))\n",
        "print(filename.endswith(\".csv\"))\n",
        "\n",
        "sentence = \"The quick brown fox jumps over the lazy dog.\"\n",
        "index = sentence.find(\"fox\")\n",
        "print(index)"
      ],
      "metadata": {
        "colab": {
          "base_uri": "https://localhost:8080/"
        },
        "id": "tgbL1MEejQKk",
        "outputId": "6da03b9e-56d8-4986-e62a-541734a09997"
      },
      "execution_count": 2,
      "outputs": [
        {
          "output_type": "stream",
          "name": "stdout",
          "text": [
            "Hello, world!\n",
            "hello, world!\n",
            "4\n",
            "True\n",
            "False\n",
            "16\n"
          ]
        }
      ]
    },
    {
      "cell_type": "code",
      "source": [
        "month = 12\n",
        "days_in_month = [31,28,31,30,31,30,31,31,30,31,30,31]\n",
        "num_days = days_in_month[month-1]\n",
        "print(num_days)"
      ],
      "metadata": {
        "colab": {
          "base_uri": "https://localhost:8080/"
        },
        "id": "LPKOMqOJjVzt",
        "outputId": "e4912083-f3e9-4e8c-fa3d-2ee9462fd301"
      },
      "execution_count": 3,
      "outputs": [
        {
          "output_type": "stream",
          "name": "stdout",
          "text": [
            "31\n"
          ]
        }
      ]
    },
    {
      "cell_type": "code",
      "source": [
        "eclipse_dates = ['June 21, 2001', 'December 4, 2002', 'November 23, 2003',\n",
        "                 'March 29, 2006', 'August 1, 2008', 'July 22, 2009','July 11, 2010',\n",
        "                 'November 13, 2012', 'March 20, 2015','March 9, 2016']\n",
        "print(eclipse_dates[-3:])\n",
        ""
      ],
      "metadata": {
        "colab": {
          "base_uri": "https://localhost:8080/"
        },
        "id": "h8ltq3CFjbc2",
        "outputId": "3ead1bd9-588e-4ec7-a610-6b3bad197eac"
      },
      "execution_count": 4,
      "outputs": [
        {
          "output_type": "stream",
          "name": "stdout",
          "text": [
            "['November 13, 2012', 'March 20, 2015', 'March 9, 2016']\n"
          ]
        }
      ]
    },
    {
      "cell_type": "code",
      "source": [
        "\n",
        "students = {\"imran\": {\"RollNo\": \"20sw006\",\"weight\": 47,\"GPA\": 2.7},\n",
        "            \"ameer\": {\"RollNo\": \"20sw888\",\"weight\": 80,\"GPA\": 2.9},\n",
        "            \"sameer\":{\"RollNo\": \"20sw998\",\"weight\": 70,\"GPA\": 3.0}}\n",
        "\n",
        "print(students)"
      ],
      "metadata": {
        "colab": {
          "base_uri": "https://localhost:8080/"
        },
        "id": "mEBuWA_fjgKQ",
        "outputId": "a6ec616e-f8b2-4c67-a10b-8f0780766d22"
      },
      "execution_count": 5,
      "outputs": [
        {
          "output_type": "stream",
          "name": "stdout",
          "text": [
            "{'imran': {'RollNo': '20sw006', 'weight': 47, 'GPA': 2.7}, 'ameer': {'RollNo': '20sw888', 'weight': 80, 'GPA': 2.9}, 'sameer': {'RollNo': '20sw998', 'weight': 70, 'GPA': 3.0}}\n"
          ]
        }
      ]
    }
  ]
}