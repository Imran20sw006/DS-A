{
  "nbformat": 4,
  "nbformat_minor": 0,
  "metadata": {
    "colab": {
      "provenance": [],
      "authorship_tag": "ABX9TyPsI1r8X6ofQIBrn725IExn",
      "include_colab_link": true
    },
    "kernelspec": {
      "name": "python3",
      "display_name": "Python 3"
    },
    "language_info": {
      "name": "python"
    }
  },
  "cells": [
    {
      "cell_type": "markdown",
      "metadata": {
        "id": "view-in-github",
        "colab_type": "text"
      },
      "source": [
        "<a href=\"https://colab.research.google.com/github/Imran20sw006/DS-A/blob/main/LAB3_20SW006.ipynb\" target=\"_parent\"><img src=\"https://colab.research.google.com/assets/colab-badge.svg\" alt=\"Open In Colab\"/></a>"
      ]
    },
    {
      "cell_type": "code",
      "execution_count": 1,
      "metadata": {
        "colab": {
          "base_uri": "https://localhost:8080/"
        },
        "id": "4C8Q26fN1HEj",
        "outputId": "92bd6bba-99fc-4735-cbf6-6372c3a40b9b"
      },
      "outputs": [
        {
          "output_type": "stream",
          "name": "stdout",
          "text": [
            "expected result: 10, actual_result : 10.0 \n",
            "expected result: 7123.6902801, actual_result : 7123.690280065897 \n"
          ]
        }
      ],
      "source": [
        "# task no 1\n",
        "def population_density(population,land_area):\n",
        "    return population/land_area\n",
        "\n",
        "\n",
        "test1= population_density(10,1)\n",
        "expected_result1=10\n",
        "\n",
        "print(\"expected result: {}, actual_result : {} \".format(expected_result1,test1))\n",
        "\n",
        "\n",
        "test2=population_density(864816,121.4)\n",
        "expected_result2=7123.6902801\n",
        "\n",
        "print(\"expected result: {}, actual_result : {} \".format(expected_result2,test2))\n",
        "\n",
        ""
      ]
    },
    {
      "cell_type": "code",
      "source": [
        "#Task no 2\n",
        "\n",
        "def readable_timedelta(days):\n",
        "  weeks=int(days/7)\n",
        "  remaining_days=weeks*7\n",
        "  final_days=days-remaining_days\n",
        "\n",
        "  return (\"{} weeks and {} days \".format(weeks,final_days))\n",
        "\n",
        "\n",
        "print(readable_timedelta(10))\n",
        ""
      ],
      "metadata": {
        "colab": {
          "base_uri": "https://localhost:8080/"
        },
        "id": "sZLRWYFi1XrO",
        "outputId": "ed6d4b68-b520-4220-83db-54f1ca7bc46a"
      },
      "execution_count": 2,
      "outputs": [
        {
          "output_type": "stream",
          "name": "stdout",
          "text": [
            "1 weeks and 3 days \n"
          ]
        }
      ]
    },
    {
      "cell_type": "code",
      "source": [
        "# Task no 3\n",
        "\n",
        "numbers =[[34,63,88,71,29],[90,78,51,27,45],[63,37,85,46,22],[51,22,34,11,18]]\n",
        "\n",
        "#orginal functions\n",
        "def mean(num_list):\n",
        "  return sum(num_list)/len(num_list)\n",
        "\n",
        "#lambda functions\n",
        "x = lambda num_list: sum(num_list)/len(num_list)\n",
        "averages = list(map(x,numbers))\n",
        "print(averages)"
      ],
      "metadata": {
        "colab": {
          "base_uri": "https://localhost:8080/"
        },
        "id": "AicMb0SF1det",
        "outputId": "561182e1-9ce2-4ed0-e70b-a33c9e3b9c8d"
      },
      "execution_count": 3,
      "outputs": [
        {
          "output_type": "stream",
          "name": "stdout",
          "text": [
            "[57.0, 58.2, 50.6, 27.2]\n"
          ]
        }
      ]
    },
    {
      "cell_type": "code",
      "source": [
        "cities = [\"New York City\", \"Los Angeles\", \"Chicago\", \"Mountain View\", \"Denver\", \"Boston\"]\n",
        "\n",
        "short_cities = list(filter(lambda name: len(name) < 10, cities))\n",
        "print(short_cities)\n",
        "\n"
      ],
      "metadata": {
        "colab": {
          "base_uri": "https://localhost:8080/"
        },
        "id": "wRLPR1Kh1inY",
        "outputId": "a6ff8436-b91e-499e-e4f8-fe21250b45f3"
      },
      "execution_count": 4,
      "outputs": [
        {
          "output_type": "stream",
          "name": "stdout",
          "text": [
            "['Chicago', 'Denver', 'Boston']\n"
          ]
        }
      ]
    },
    {
      "cell_type": "code",
      "source": [
        "# Task no 5\n",
        "\n",
        "names =[]\n",
        "assignments =[]\n",
        "grades = []\n",
        "\n",
        "names=input(\"Enter names seperated by commnas:\")\n",
        "names=names.split(',')\n",
        "\n",
        "assignments = input(\"Enter assignments counts seprated by commas:\")\n",
        "assignments = assignments.split(',')\n",
        "grades=input(\"Enter grades seperated by commas :\")\n",
        "grades= grades.split(',')\n",
        "\n",
        "for i in range(len(names)):\n",
        "  potential_grade = int(grades[i]) + (2 * int(assignments[i]))\n",
        "  print(\"\\nHi {},\\n\\nThis is a reminder that you have {} assignments left to submit before you can graduate. You're current grade is {} and can increase to {} if you submit all assignments before the due date.\\n\\n\".format(names[i],assignments[i],grades[i],potential_grade))\n"
      ],
      "metadata": {
        "colab": {
          "base_uri": "https://localhost:8080/"
        },
        "id": "waUZ_Zb91nHh",
        "outputId": "5ea3ccc4-d0a8-472d-d95f-b19f611a0866"
      },
      "execution_count": 6,
      "outputs": [
        {
          "output_type": "stream",
          "name": "stdout",
          "text": [
            "Enter names seperated by commnas:Imran ,Ameer\n",
            "Enter assignments counts seprated by commas:1,2\n",
            "Enter grades seperated by commas :10,01\n",
            "\n",
            "Hi Imran ,\n",
            "\n",
            "This is a reminder that you have 1 assignments left to submit before you can graduate. You're current grade is 10 and can increase to 12 if you submit all assignments before the due date.\n",
            "\n",
            "\n",
            "\n",
            "Hi Ameer,\n",
            "\n",
            "This is a reminder that you have 2 assignments left to submit before you can graduate. You're current grade is 01 and can increase to 5 if you submit all assignments before the due date.\n",
            "\n",
            "\n"
          ]
        }
      ]
    },
    {
      "cell_type": "code",
      "source": [
        "camlot_lines = []\n",
        "\n",
        "try:\n",
        "    with open(\"camlot.txt\") as f:\n",
        "        for line in f:\n",
        "            camlot_lines.append(line.strip())\n",
        "except FileNotFoundError:\n",
        "    print(\"Error: 'camlot.txt' not found.\")\n",
        "    exit(1)\n",
        "\n",
        "print(camlot_lines)\n",
        "\n",
        ""
      ],
      "metadata": {
        "colab": {
          "base_uri": "https://localhost:8080/"
        },
        "id": "qMO2kfLN1srW",
        "outputId": "70cbea1b-c187-4f18-be1f-9de5e907e3c1"
      },
      "execution_count": 7,
      "outputs": [
        {
          "output_type": "stream",
          "name": "stdout",
          "text": [
            "Error: 'camlot.txt' not found.\n",
            "[]\n"
          ]
        }
      ]
    },
    {
      "cell_type": "code",
      "source": [
        "\n",
        "def create_cast_list(filename):\n",
        "    cast_list = []\n",
        "    try:\n",
        "        with open(filename) as f:\n",
        "            for line in f:\n",
        "                cast_list.append(line.strip().split(',')[0])\n",
        "    except FileNotFoundError:\n",
        "        print(f\"Error: File '{filename}' not found.\")\n",
        "\n",
        "        return []\n",
        "\n",
        "    return cast_list\n",
        "\n",
        "cast_list = create_cast_list('flying_circus_cast.txt')\n",
        "\n",
        "for actor in cast_list:\n",
        "    print(actor)\n",
        "\n",
        ""
      ],
      "metadata": {
        "colab": {
          "base_uri": "https://localhost:8080/"
        },
        "id": "RcCzSyFW2P_I",
        "outputId": "fc536c2f-c1ae-4ce7-bf1f-8e273fba60f4"
      },
      "execution_count": 8,
      "outputs": [
        {
          "output_type": "stream",
          "name": "stdout",
          "text": [
            "Error: File 'flying_circus_cast.txt' not found.\n"
          ]
        }
      ]
    }
  ]
}