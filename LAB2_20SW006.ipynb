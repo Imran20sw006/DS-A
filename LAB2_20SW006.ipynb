{
  "nbformat": 4,
  "nbformat_minor": 0,
  "metadata": {
    "colab": {
      "provenance": [],
      "authorship_tag": "ABX9TyOOZ4jqTmJ8qgqJfVAWv/Z6",
      "include_colab_link": true
    },
    "kernelspec": {
      "name": "python3",
      "display_name": "Python 3"
    },
    "language_info": {
      "name": "python"
    }
  },
  "cells": [
    {
      "cell_type": "markdown",
      "metadata": {
        "id": "view-in-github",
        "colab_type": "text"
      },
      "source": [
        "<a href=\"https://colab.research.google.com/github/Imran20sw006/DS-A/blob/main/LAB2_20SW006.ipynb\" target=\"_parent\"><img src=\"https://colab.research.google.com/assets/colab-badge.svg\" alt=\"Open In Colab\"/></a>"
      ]
    },
    {
      "cell_type": "code",
      "execution_count": 1,
      "metadata": {
        "colab": {
          "base_uri": "https://localhost:8080/"
        },
        "id": "TyifTSjuqCbs",
        "outputId": "b35f4390-bd40-4a3d-f9ad-374d7dcc1cc6"
      },
      "outputs": [
        {
          "output_type": "stream",
          "name": "stdout",
          "text": [
            "Congratulations you won a wafer-thin mint\n"
          ]
        }
      ],
      "source": [
        "#Task 1\n",
        "\n",
        "points = 174\n",
        "\n",
        "\n",
        "if points >=1 and  points <= 50:\n",
        "    result=\"Congratulations you won a Wooden Rabbit\"\n",
        "elif points >50 and points <= 150:\n",
        "    result=\"Oh dear, No prize this time\"\n",
        "elif points >150 and points <= 180:\n",
        "    result=\"Congratulations you won a wafer-thin mint\"\n",
        "elif points >180 and points <= 200:\n",
        "    Result=\"Congratulations you won a penguin\"\n",
        "else:\n",
        "    result=\"Incorrect Input\"\n",
        "\n",
        "print(result)\n",
        "\n"
      ]
    },
    {
      "cell_type": "code",
      "source": [
        "#Task 2\n",
        "\n",
        "answer = 70\n",
        "guess = 70\n",
        "\n",
        "if guess < answer:\n",
        "    result = \"Oops!  Your guess was too low.\"\n",
        "elif guess > answer:\n",
        "    result = \"Oops!  Your guess was too high.\"\n",
        "elif guess==answer:\n",
        "    result = \"Nice!  Your guess matched the answer!\"\n",
        "\n",
        "\n",
        "print(result)\n",
        ""
      ],
      "metadata": {
        "colab": {
          "base_uri": "https://localhost:8080/"
        },
        "id": "cm4VlZHFqQ1c",
        "outputId": "8043b6ee-6a6f-4696-8c1f-02149fa5217e"
      },
      "execution_count": 2,
      "outputs": [
        {
          "output_type": "stream",
          "name": "stdout",
          "text": [
            "Nice!  Your guess matched the answer!\n"
          ]
        }
      ]
    },
    {
      "cell_type": "code",
      "source": [
        "# Task 3\n",
        "tax_rates = {\n",
        "    'CA': 0.075,\n",
        "    'MN': 0.095,\n",
        "    'NY': 0.089\n",
        "}\n",
        "\n",
        "purchase_amount = float(input(\"Enter the purchase amount: \"))\n",
        "state_code = input(\"Enter the state (CA, MN, or NY): \").upper()\n",
        "\n",
        "if state_code not in tax_rates:\n",
        "    print(\"Error: Invalid state.\")\n",
        "else:\n",
        "    tax_amount = purchase_amount * tax_rates[state_code]\n",
        "\n",
        "total_amount_after_tax = purchase_amount + tax_amount\n",
        "\n",
        "print(\"Total amount after tax:\", total_amount_after_tax)\n",
        "\n",
        ""
      ],
      "metadata": {
        "colab": {
          "base_uri": "https://localhost:8080/"
        },
        "id": "tgCMxKBvqYJR",
        "outputId": "3b4aa066-3013-40bc-8141-72a549cd7b07"
      },
      "execution_count": 3,
      "outputs": [
        {
          "output_type": "stream",
          "name": "stdout",
          "text": [
            "Enter the purchase amount: 5000\n",
            "Enter the state (CA, MN, or NY): MN\n",
            "Total amount after tax: 5475.0\n"
          ]
        }
      ]
    },
    {
      "cell_type": "code",
      "source": [
        "# Task 4\n",
        "my_list = [\"a\",\"quick\",\"brown\",\"fox\",\"jumped\",\"over\",\"the\",\"lazy\",\"dog\"]\n",
        "for element in my_list:\n",
        "    print(element)\n"
      ],
      "metadata": {
        "colab": {
          "base_uri": "https://localhost:8080/"
        },
        "id": "gFvF9h0oqdr_",
        "outputId": "b4e824c6-9470-4743-d963-20407b66ca49"
      },
      "execution_count": 5,
      "outputs": [
        {
          "output_type": "stream",
          "name": "stdout",
          "text": [
            "a\n",
            "quick\n",
            "brown\n",
            "fox\n",
            "jumped\n",
            "over\n",
            "the\n",
            "lazy\n",
            "dog\n"
          ]
        }
      ]
    },
    {
      "cell_type": "code",
      "source": [
        "# Task 5\n",
        "for number in range(5, 31, 5):\n",
        "    print(number)\n"
      ],
      "metadata": {
        "colab": {
          "base_uri": "https://localhost:8080/"
        },
        "id": "41EUeWrpqyC7",
        "outputId": "ff9d8df2-3cb1-4f50-ada4-8dd72fbf2ad4"
      },
      "execution_count": 6,
      "outputs": [
        {
          "output_type": "stream",
          "name": "stdout",
          "text": [
            "5\n",
            "10\n",
            "15\n",
            "20\n",
            "25\n",
            "30\n"
          ]
        }
      ]
    },
    {
      "cell_type": "code",
      "source": [
        "#Task 6\n",
        "names = [\"Rick Sanchez\", \"Morty Smith\", \"Summer Smith\", \"Jerry Smith\", \"Beth Smith\"]\n",
        "first_names=[name.split()[0] for name in names]\n",
        "print(first_names)"
      ],
      "metadata": {
        "colab": {
          "base_uri": "https://localhost:8080/"
        },
        "id": "cP9VeO8Eq1hw",
        "outputId": "43d5ed40-7b73-4e2e-c140-e41e5c69545b"
      },
      "execution_count": 7,
      "outputs": [
        {
          "output_type": "stream",
          "name": "stdout",
          "text": [
            "['Rick', 'Morty', 'Summer', 'Jerry', 'Beth']\n"
          ]
        }
      ]
    },
    {
      "cell_type": "code",
      "source": [
        "#Task 7\n",
        "multiples_3 = [num*3 for num in range(1,21) ]\n",
        "print(multiples_3)"
      ],
      "metadata": {
        "colab": {
          "base_uri": "https://localhost:8080/"
        },
        "id": "pXf7DI8Dq7gA",
        "outputId": "23c1222d-4631-4ecc-fe00-31c670430907"
      },
      "execution_count": 8,
      "outputs": [
        {
          "output_type": "stream",
          "name": "stdout",
          "text": [
            "[3, 6, 9, 12, 15, 18, 21, 24, 27, 30, 33, 36, 39, 42, 45, 48, 51, 54, 57, 60]\n"
          ]
        }
      ]
    },
    {
      "cell_type": "code",
      "source": [
        "#Task 8\n",
        "scores = {\"Rick Sanchez\": 70,\n",
        "          \"Morty Smith\": 35,\n",
        "          \"Summer Smith\": 82,\n",
        "          \"Jerry Smith\": 23,\n",
        "          \"Beth Smith\": 98}\n",
        "passed = [Name for Name,score in scores.items() if score>= 65]\n",
        "print(passed)"
      ],
      "metadata": {
        "colab": {
          "base_uri": "https://localhost:8080/"
        },
        "id": "uX1uhU5jrABi",
        "outputId": "35bdc3de-d2fa-4b39-c775-e1163ff059cd"
      },
      "execution_count": 9,
      "outputs": [
        {
          "output_type": "stream",
          "name": "stdout",
          "text": [
            "['Rick Sanchez', 'Summer Smith', 'Beth Smith']\n"
          ]
        }
      ]
    },
    {
      "cell_type": "code",
      "source": [
        "#Task 9\n",
        "cast_names = [\"Barney\", \"Robin\", \"Ted\", \"Lily\", \"Marshall\"]\n",
        "cast_heights = [72, 68, 72, 66, 76]\n",
        "cast = dict(zip(cast_names,cast_heights))\n",
        "print(cast)\n",
        ""
      ],
      "metadata": {
        "colab": {
          "base_uri": "https://localhost:8080/"
        },
        "id": "qwsJXn3UrEAh",
        "outputId": "f738acf2-0753-4581-e6ef-a17e86ccd97a"
      },
      "execution_count": 10,
      "outputs": [
        {
          "output_type": "stream",
          "name": "stdout",
          "text": [
            "{'Barney': 72, 'Robin': 68, 'Ted': 72, 'Lily': 66, 'Marshall': 76}\n"
          ]
        }
      ]
    },
    {
      "cell_type": "code",
      "source": [
        "# Task 10\n",
        "cast_names = [\"Barney\", \"Robin\", \"Ted\", \"Lily\", \"Marshall\"]\n",
        "cast_heights = [72, 68, 72, 66, 76]\n",
        "cast = [name +\" \"+ str(height) for name, height in zip(cast_names, cast_heights)]\n",
        "\n",
        "print(cast)"
      ],
      "metadata": {
        "colab": {
          "base_uri": "https://localhost:8080/"
        },
        "id": "Su1lNvrJrH04",
        "outputId": "132cca15-207c-45d2-b16e-cdc7115895a2"
      },
      "execution_count": 11,
      "outputs": [
        {
          "output_type": "stream",
          "name": "stdout",
          "text": [
            "['Barney 72', 'Robin 68', 'Ted 72', 'Lily 66', 'Marshall 76']\n"
          ]
        }
      ]
    }
  ]
}