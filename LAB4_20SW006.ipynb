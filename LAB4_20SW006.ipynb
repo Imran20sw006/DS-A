{
  "nbformat": 4,
  "nbformat_minor": 0,
  "metadata": {
    "colab": {
      "provenance": [],
      "authorship_tag": "ABX9TyN4kTjOCIHDCwHXf44mZlLR",
      "include_colab_link": true
    },
    "kernelspec": {
      "name": "python3",
      "display_name": "Python 3"
    },
    "language_info": {
      "name": "python"
    }
  },
  "cells": [
    {
      "cell_type": "markdown",
      "metadata": {
        "id": "view-in-github",
        "colab_type": "text"
      },
      "source": [
        "<a href=\"https://colab.research.google.com/github/Imran20sw006/DS-A/blob/main/LAB4_20SW006.ipynb\" target=\"_parent\"><img src=\"https://colab.research.google.com/assets/colab-badge.svg\" alt=\"Open In Colab\"/></a>"
      ]
    },
    {
      "cell_type": "code",
      "execution_count": 1,
      "metadata": {
        "colab": {
          "base_uri": "https://localhost:8080/"
        },
        "id": "Z0ZIBb-ShPHs",
        "outputId": "875937c4-02c9-43a2-b40e-63f125a51638"
      },
      "outputs": [
        {
          "output_type": "stream",
          "name": "stdout",
          "text": [
            "[[ 2  4  6  8]\n",
            " [10 12 14 16]\n",
            " [18 20 22 24]\n",
            " [26 28 30 32]]\n"
          ]
        }
      ],
      "source": [
        "#Task 1\n",
        "import numpy as np\n",
        "\n",
        "X = np.arange(2, 33, 2).reshape(4, 4)\n",
        "print(X)"
      ]
    },
    {
      "cell_type": "code",
      "source": [
        "#Task 2\n",
        "import numpy as np\n",
        "\n",
        "X = np.arange(1, 26).reshape(5, 5)\n",
        "odd_numbers = X[X % 2 != 0]\n",
        "\n",
        "print(\"Original 5x5 ndarray:\")\n",
        "print(X)\n",
        "\n",
        "print(\"\\nOdd numbers using Boolean indexing:\")\n",
        "print(odd_numbers)\n"
      ],
      "metadata": {
        "colab": {
          "base_uri": "https://localhost:8080/"
        },
        "id": "ogpZ28Q8hVW6",
        "outputId": "d4b086f9-47ca-402f-c0c6-0033131a820b"
      },
      "execution_count": 2,
      "outputs": [
        {
          "output_type": "stream",
          "name": "stdout",
          "text": [
            "Original 5x5 ndarray:\n",
            "[[ 1  2  3  4  5]\n",
            " [ 6  7  8  9 10]\n",
            " [11 12 13 14 15]\n",
            " [16 17 18 19 20]\n",
            " [21 22 23 24 25]]\n",
            "\n",
            "Odd numbers using Boolean indexing:\n",
            "[ 1  3  5  7  9 11 13 15 17 19 21 23 25]\n"
          ]
        }
      ]
    },
    {
      "cell_type": "code",
      "source": [
        "#Task 3\n",
        "import numpy as np\n",
        "\n",
        "X = np.arange(1, 5)[:, np.newaxis] * np.ones((4, 4))\n",
        "print(X)"
      ],
      "metadata": {
        "colab": {
          "base_uri": "https://localhost:8080/"
        },
        "id": "N855hDKZhcXc",
        "outputId": "d199a44b-ea64-47e2-df3b-dfd7f611be63"
      },
      "execution_count": 3,
      "outputs": [
        {
          "output_type": "stream",
          "name": "stdout",
          "text": [
            "[[1. 1. 1. 1.]\n",
            " [2. 2. 2. 2.]\n",
            " [3. 3. 3. 3.]\n",
            " [4. 4. 4. 4.]]\n"
          ]
        }
      ]
    },
    {
      "cell_type": "code",
      "source": [
        "#Task 4\n",
        "import numpy as np\n",
        "\n",
        "X = np.random.randint(0, 5001, size=(1000, 20))\n",
        "print(X.shape)\n",
        "\n",
        "ave_cols = np.mean(X, axis=0)\n",
        "std_cols = np.std(X, axis=0)\n",
        "\n",
        "print(\"Average of values in each column:\", ave_cols)\n",
        "print(\"Standard Deviation of values in each column:\", std_cols)\n",
        "\n",
        "ave_cols = np.mean(X, axis=0)\n",
        "std_cols = np.std(X, axis=0)\n",
        "\n",
        "print(\"Shape of ave_cols:\", ave_cols.shape)\n",
        "print(\"Shape of std_cols:\", std_cols.shape)\n",
        "\n",
        "X_norm = (X - np.mean(X, axis=0)) / np.std(X, axis=0)\n",
        "\n",
        "ave_X_norm = np.mean(X_norm)\n",
        "print(\"Average of all values in X_norm:\", ave_X_norm)\n",
        "\n",
        "ave_min_X_norm = np.mean(np.min(X_norm, axis=0))\n",
        "print(\"Average of minimum value in each column of X_norm:\", ave_min_X_norm)\n",
        "\n",
        "ave_max_X_norm = np.mean(np.max(X_norm, axis=0))\n",
        "print(\"Average of maximum value in each column of X_norm:\", ave_max_X_norm)\n",
        "\n",
        "permuted_indices = np.random.permutation(5)\n",
        "row_indices = np.random.permutation(X_norm.shape[0])\n",
        "X_norm_shuffled = X_norm[row_indices]\n",
        "\n",
        "\n",
        "num_examples = X_norm.shape[0]\n",
        "num_train = int(0.7 * num_examples)   # 70% for training\n",
        "num_crossVal = int(0.15 * num_examples)   # 15% for cross-validation\n",
        "num_test = num_examples - num_train - num_crossVal   # Remaining 15% for testing\n",
        "\n",
        "\n",
        "X_train = X_norm_shuffled[:num_train]\n",
        "X_crossVal = X_norm_shuffled[num_train:num_train + num_crossVal]\n",
        "X_test = X_norm_shuffled[num_train + num_crossVal:]\n",
        "\n",
        "print(\"Shape of X_train:\", X_train.shape)\n",
        "print(\"Shape of X_crossVal:\", X_crossVal.shape)\n",
        "print(\"Shape of X_test:\", X_test.shape)\n"
      ],
      "metadata": {
        "id": "eYOkcvWthiKp"
      },
      "execution_count": null,
      "outputs": []
    }
  ]
}